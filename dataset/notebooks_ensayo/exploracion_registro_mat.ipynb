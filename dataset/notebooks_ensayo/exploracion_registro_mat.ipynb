{
  "cells": [
    {
      "cell_type": "markdown",
      "metadata": {
        "id": "pcTBB7Xloswp"
      },
      "source": [
        "## Exploracion basica de un archivo .mat\n",
        "\n",
        "El siguiente notebook explora de manera sencilla un archivo de matlab donde se guarda la información de un sensor."
      ]
    },
    {
      "cell_type": "code",
      "execution_count": 1,
      "metadata": {
        "id": "NA8QKFpawYK-"
      },
      "outputs": [],
      "source": [
        "import scipy.io\n",
        "import pandas as pd\n",
        "import numpy as np\n",
        "from IPython.display import Markdown, display"
      ]
    },
    {
      "cell_type": "code",
      "execution_count": 3,
      "metadata": {
        "colab": {
          "base_uri": "https://localhost:8080/"
        },
        "id": "cvOUYvL4qmNX",
        "outputId": "06a60343-3606-4537-c48c-d4f81a1f033d"
      },
      "outputs": [
        {
          "name": "stdout",
          "output_type": "stream",
          "text": [
            "['__header__', '__version__', '__globals__', 'emg', 'stimulus', 'glove', 'subject', 'exercise', 'repetition', 'restimulus', 'rerepetition']\n",
            "['emg', 'stimulus', 'glove', 'subject', 'exercise', 'repetition', 'restimulus', 'rerepetition']\n"
          ]
        }
      ],
      "source": [
        "# prompt: necesito cargar un archivo mat que esta en esta misma carpeta usando pandas\n",
        "\n",
        "import scipy.io\n",
        "import pandas as pd\n",
        "\n",
        "# Ruta al archivo .mat en Google Drive\n",
        "mat_file_path = 'S1_A1_E1.mat'\n",
        "mat_data = scipy.io.loadmat(mat_file_path)\n",
        "keys_mat_data = list(mat_data.keys())\n",
        "print(keys_mat_data)\n",
        "column_names = keys_mat_data[3:]\n",
        "print(column_names)"
      ]
    },
    {
      "cell_type": "markdown",
      "metadata": {
        "id": "71supOz7Azpl"
      },
      "source": [
        "Segun la IA el archivo .mat tiene:\n",
        "* **`emg`**: Matriz con las señales EMG (10 columnas)\n",
        "* **`glove`**: Matriz con datos del CyberGlove (22 columnas)\n",
        "* **`stimulus`**: Vector con etiquetas de movimientos\n",
        "* **`repetition`**: Vector con números de repetición\n",
        "* **`rerepetition`**: Vector indicando repeticiones adicionales\n",
        "* **`subject`**: Número de sujeto\n",
        "* **`exercise`**: Número de ejercicio"
      ]
    },
    {
      "cell_type": "code",
      "execution_count": 4,
      "metadata": {
        "colab": {
          "base_uri": "https://localhost:8080/",
          "height": 300
        },
        "id": "mw4EuFnquNbK",
        "outputId": "f4e71810-9062-4cdb-f913-ea6bf36a2827"
      },
      "outputs": [
        {
          "data": {
            "text/markdown": [
              "| Columna | Longitud |\n",
              "|---|---|\n",
              "| emg | 1010140 |\n",
              "| stimulus | 101014 |\n",
              "| glove | 2222308 |\n",
              "| subject | 1 |\n",
              "| exercise | 1 |\n",
              "| repetition | 101014 |\n",
              "| restimulus | 101014 |\n",
              "| rerepetition | 101014 |"
            ],
            "text/plain": [
              "<IPython.core.display.Markdown object>"
            ]
          },
          "metadata": {},
          "output_type": "display_data"
        }
      ],
      "source": [
        "# Creacion de un diccionario a partir del archivo .mat\n",
        "data_dict = {}\n",
        "\n",
        "for col_name in column_names:\n",
        "  if col_name in mat_data:\n",
        "    data_dict[col_name] = mat_data[col_name].flatten()  # Flatten the data if necessary\n",
        "\n",
        "# data_dict\n",
        "\n",
        "markdown_text = \"\"\"| Columna | Longitud |\n",
        "|---|---|\"\"\"\n",
        "\n",
        "for key, value in data_dict.items():\n",
        "  markdown_text += f\"\\n| {key} | {len(value)} |\"\n",
        "\n",
        "display(Markdown(markdown_text))"
      ]
    },
    {
      "cell_type": "code",
      "execution_count": null,
      "metadata": {
        "id": "1YMK4iKsxR_o"
      },
      "outputs": [],
      "source": [
        "# prompt: crear un dataframe a partir de las columnas de un archivo .mat"
      ]
    },
    {
      "cell_type": "markdown",
      "metadata": {
        "id": "yVpCXwpR4K7D"
      },
      "source": [
        "### Posturas\n",
        "\n",
        "Para el ejercicio 1 (**`E1`**) estas son las posturas empleadas."
      ]
    },
    {
      "cell_type": "code",
      "execution_count": 5,
      "metadata": {
        "colab": {
          "base_uri": "https://localhost:8080/"
        },
        "id": "rLQdOJ-i3wi_",
        "outputId": "36a88fd0-b94b-42a5-961b-3f29451b34cf"
      },
      "outputs": [
        {
          "name": "stdout",
          "output_type": "stream",
          "text": [
            "<class 'pandas.core.frame.DataFrame'>\n",
            "RangeIndex: 101014 entries, 0 to 101013\n",
            "Data columns (total 1 columns):\n",
            " #   Column    Non-Null Count   Dtype\n",
            "---  ------    --------------   -----\n",
            " 0   stimulus  101014 non-null  uint8\n",
            "dtypes: uint8(1)\n",
            "memory usage: 98.8 KB\n"
          ]
        }
      ],
      "source": [
        "stimulus_data = pd.DataFrame(mat_data['stimulus'])\n",
        "stimulus_data.columns = ['stimulus']\n",
        "stimulus_data.info()"
      ]
    },
    {
      "cell_type": "code",
      "execution_count": 6,
      "metadata": {
        "colab": {
          "base_uri": "https://localhost:8080/",
          "height": 523
        },
        "id": "pmb40bGY7u9V",
        "outputId": "92d06165-3219-4fba-9464-4b56f14c4f0c"
      },
      "outputs": [
        {
          "data": {
            "text/plain": [
              "0     39063\n",
              "2      5174\n",
              "4      5173\n",
              "5      5173\n",
              "12     5173\n",
              "8      5172\n",
              "7      5171\n",
              "6      5170\n",
              "11     5166\n",
              "3      5158\n",
              "1      5149\n",
              "10     5137\n",
              "9      5135\n",
              "Name: stimulus, dtype: int64"
            ]
          },
          "execution_count": 6,
          "metadata": {},
          "output_type": "execute_result"
        }
      ],
      "source": [
        "# Example: Count the number of repeated values in the 'stimulus' column\n",
        "\n",
        "conteo_ejercicios = stimulus_data['stimulus'].value_counts()\n",
        "conteo_ejercicios"
      ]
    },
    {
      "cell_type": "markdown",
      "metadata": {
        "id": "6_A1Q3uq-8Lh"
      },
      "source": [
        "### Repeticion\n",
        "\n",
        "Que es la repeticion en este contexto."
      ]
    },
    {
      "cell_type": "code",
      "execution_count": 7,
      "metadata": {
        "colab": {
          "base_uri": "https://localhost:8080/"
        },
        "id": "5j2jw7gD--t_",
        "outputId": "069e4f29-096d-47d9-9b66-d6aeec8619a1"
      },
      "outputs": [
        {
          "name": "stdout",
          "output_type": "stream",
          "text": [
            "<class 'pandas.core.frame.DataFrame'>\n",
            "RangeIndex: 101014 entries, 0 to 101013\n",
            "Data columns (total 1 columns):\n",
            " #   Column      Non-Null Count   Dtype\n",
            "---  ------      --------------   -----\n",
            " 0   repetition  101014 non-null  uint8\n",
            "dtypes: uint8(1)\n",
            "memory usage: 98.8 KB\n"
          ]
        }
      ],
      "source": [
        "repeticion_estimulo_data = pd.DataFrame(mat_data['repetition'])\n",
        "repeticion_estimulo_data.columns = ['repetition']\n",
        "repeticion_estimulo_data.info()"
      ]
    },
    {
      "cell_type": "code",
      "execution_count": 8,
      "metadata": {
        "colab": {
          "base_uri": "https://localhost:8080/",
          "height": 460
        },
        "id": "n0Qfcibf_NOI",
        "outputId": "bb3f4ebf-e953-4f50-8db2-bc45d16bfb29"
      },
      "outputs": [
        {
          "data": {
            "text/plain": [
              "0     39063\n",
              "5      6206\n",
              "4      6199\n",
              "3      6198\n",
              "10     6198\n",
              "2      6194\n",
              "9      6194\n",
              "1      6192\n",
              "6      6191\n",
              "8      6190\n",
              "7      6189\n",
              "Name: repetition, dtype: int64"
            ]
          },
          "execution_count": 8,
          "metadata": {},
          "output_type": "execute_result"
        }
      ],
      "source": [
        "conteo_repeticion_estimulo_data = repeticion_estimulo_data['repetition'].value_counts()\n",
        "conteo_repeticion_estimulo_data"
      ]
    },
    {
      "cell_type": "markdown",
      "metadata": {
        "id": "938gaXt6DTcv"
      },
      "source": [
        "## Mediciones"
      ]
    },
    {
      "cell_type": "markdown",
      "metadata": {
        "id": "-DUQfUIz-crD"
      },
      "source": [
        "### Mediciones EMG\n",
        "\n",
        "Tomadas de los 10 electrodos"
      ]
    },
    {
      "cell_type": "code",
      "execution_count": 9,
      "metadata": {
        "colab": {
          "base_uri": "https://localhost:8080/",
          "height": 206
        },
        "id": "bCKeRS_c7lV8",
        "outputId": "764c467f-f4c4-496b-c3ea-bb49ca8a99cf"
      },
      "outputs": [
        {
          "data": {
            "text/html": [
              "<div>\n",
              "<style scoped>\n",
              "    .dataframe tbody tr th:only-of-type {\n",
              "        vertical-align: middle;\n",
              "    }\n",
              "\n",
              "    .dataframe tbody tr th {\n",
              "        vertical-align: top;\n",
              "    }\n",
              "\n",
              "    .dataframe thead th {\n",
              "        text-align: right;\n",
              "    }\n",
              "</style>\n",
              "<table border=\"1\" class=\"dataframe\">\n",
              "  <thead>\n",
              "    <tr style=\"text-align: right;\">\n",
              "      <th></th>\n",
              "      <th>EMG_1</th>\n",
              "      <th>EMG_2</th>\n",
              "      <th>EMG_3</th>\n",
              "      <th>EMG_4</th>\n",
              "      <th>EMG_5</th>\n",
              "      <th>EMG_6</th>\n",
              "      <th>EMG_7</th>\n",
              "      <th>EMG_8</th>\n",
              "      <th>EMG_9</th>\n",
              "      <th>EMG_10</th>\n",
              "    </tr>\n",
              "  </thead>\n",
              "  <tbody>\n",
              "    <tr>\n",
              "      <th>0</th>\n",
              "      <td>0.0684</td>\n",
              "      <td>0.0024</td>\n",
              "      <td>0.0024</td>\n",
              "      <td>0.0024</td>\n",
              "      <td>0.0024</td>\n",
              "      <td>0.0098</td>\n",
              "      <td>0.0024</td>\n",
              "      <td>0.0488</td>\n",
              "      <td>0.0024</td>\n",
              "      <td>0.0342</td>\n",
              "    </tr>\n",
              "    <tr>\n",
              "      <th>1</th>\n",
              "      <td>0.0586</td>\n",
              "      <td>0.0024</td>\n",
              "      <td>0.0024</td>\n",
              "      <td>0.0024</td>\n",
              "      <td>0.0024</td>\n",
              "      <td>0.0049</td>\n",
              "      <td>0.0024</td>\n",
              "      <td>0.0415</td>\n",
              "      <td>0.0024</td>\n",
              "      <td>0.0293</td>\n",
              "    </tr>\n",
              "    <tr>\n",
              "      <th>2</th>\n",
              "      <td>0.0562</td>\n",
              "      <td>0.0024</td>\n",
              "      <td>0.0024</td>\n",
              "      <td>0.0024</td>\n",
              "      <td>0.0024</td>\n",
              "      <td>0.0049</td>\n",
              "      <td>0.0024</td>\n",
              "      <td>0.0391</td>\n",
              "      <td>0.0024</td>\n",
              "      <td>0.0244</td>\n",
              "    </tr>\n",
              "    <tr>\n",
              "      <th>3</th>\n",
              "      <td>0.0562</td>\n",
              "      <td>0.0024</td>\n",
              "      <td>0.0024</td>\n",
              "      <td>0.0024</td>\n",
              "      <td>0.0024</td>\n",
              "      <td>0.0049</td>\n",
              "      <td>0.0024</td>\n",
              "      <td>0.0342</td>\n",
              "      <td>0.0024</td>\n",
              "      <td>0.0171</td>\n",
              "    </tr>\n",
              "    <tr>\n",
              "      <th>4</th>\n",
              "      <td>0.0488</td>\n",
              "      <td>0.0024</td>\n",
              "      <td>0.0024</td>\n",
              "      <td>0.0024</td>\n",
              "      <td>0.0024</td>\n",
              "      <td>0.0024</td>\n",
              "      <td>0.0024</td>\n",
              "      <td>0.0366</td>\n",
              "      <td>0.0024</td>\n",
              "      <td>0.0146</td>\n",
              "    </tr>\n",
              "  </tbody>\n",
              "</table>\n",
              "</div>"
            ],
            "text/plain": [
              "    EMG_1   EMG_2   EMG_3   EMG_4   EMG_5   EMG_6   EMG_7   EMG_8   EMG_9  \\\n",
              "0  0.0684  0.0024  0.0024  0.0024  0.0024  0.0098  0.0024  0.0488  0.0024   \n",
              "1  0.0586  0.0024  0.0024  0.0024  0.0024  0.0049  0.0024  0.0415  0.0024   \n",
              "2  0.0562  0.0024  0.0024  0.0024  0.0024  0.0049  0.0024  0.0391  0.0024   \n",
              "3  0.0562  0.0024  0.0024  0.0024  0.0024  0.0049  0.0024  0.0342  0.0024   \n",
              "4  0.0488  0.0024  0.0024  0.0024  0.0024  0.0024  0.0024  0.0366  0.0024   \n",
              "\n",
              "   EMG_10  \n",
              "0  0.0342  \n",
              "1  0.0293  \n",
              "2  0.0244  \n",
              "3  0.0171  \n",
              "4  0.0146  "
            ]
          },
          "execution_count": 9,
          "metadata": {},
          "output_type": "execute_result"
        }
      ],
      "source": [
        "emg_data = pd.DataFrame(mat_data['emg'])\n",
        "new_column_names = ['EMG_' + str(i) for i in range(1, emg_data.shape[1] + 1)]\n",
        "emg_data.columns = new_column_names\n",
        "emg_data.head()"
      ]
    },
    {
      "cell_type": "code",
      "execution_count": 10,
      "metadata": {
        "colab": {
          "base_uri": "https://localhost:8080/"
        },
        "id": "zCp75dsq4dlu",
        "outputId": "f8c01236-3bff-4087-973a-4cc0e0cf049b"
      },
      "outputs": [
        {
          "name": "stdout",
          "output_type": "stream",
          "text": [
            "<class 'pandas.core.frame.DataFrame'>\n",
            "RangeIndex: 101014 entries, 0 to 101013\n",
            "Data columns (total 10 columns):\n",
            " #   Column  Non-Null Count   Dtype  \n",
            "---  ------  --------------   -----  \n",
            " 0   EMG_1   101014 non-null  float64\n",
            " 1   EMG_2   101014 non-null  float64\n",
            " 2   EMG_3   101014 non-null  float64\n",
            " 3   EMG_4   101014 non-null  float64\n",
            " 4   EMG_5   101014 non-null  float64\n",
            " 5   EMG_6   101014 non-null  float64\n",
            " 6   EMG_7   101014 non-null  float64\n",
            " 7   EMG_8   101014 non-null  float64\n",
            " 8   EMG_9   101014 non-null  float64\n",
            " 9   EMG_10  101014 non-null  float64\n",
            "dtypes: float64(10)\n",
            "memory usage: 7.7 MB\n"
          ]
        }
      ],
      "source": [
        "emg_data.info()"
      ]
    },
    {
      "cell_type": "markdown",
      "metadata": {
        "id": "3lNpR1u9Dkoh"
      },
      "source": [
        "### Mediciones del guante\n"
      ]
    },
    {
      "cell_type": "code",
      "execution_count": 11,
      "metadata": {
        "colab": {
          "base_uri": "https://localhost:8080/",
          "height": 235
        },
        "id": "yeqHe76sDtuz",
        "outputId": "bccbc1bf-9858-4e98-b4a3-64d304c35e91"
      },
      "outputs": [
        {
          "data": {
            "text/html": [
              "<div>\n",
              "<style scoped>\n",
              "    .dataframe tbody tr th:only-of-type {\n",
              "        vertical-align: middle;\n",
              "    }\n",
              "\n",
              "    .dataframe tbody tr th {\n",
              "        vertical-align: top;\n",
              "    }\n",
              "\n",
              "    .dataframe thead th {\n",
              "        text-align: right;\n",
              "    }\n",
              "</style>\n",
              "<table border=\"1\" class=\"dataframe\">\n",
              "  <thead>\n",
              "    <tr style=\"text-align: right;\">\n",
              "      <th></th>\n",
              "      <th>G_1</th>\n",
              "      <th>G_2</th>\n",
              "      <th>G_3</th>\n",
              "      <th>G_4</th>\n",
              "      <th>G_5</th>\n",
              "      <th>G_6</th>\n",
              "      <th>G_7</th>\n",
              "      <th>G_8</th>\n",
              "      <th>G_9</th>\n",
              "      <th>G_10</th>\n",
              "      <th>...</th>\n",
              "      <th>G_13</th>\n",
              "      <th>G_14</th>\n",
              "      <th>G_15</th>\n",
              "      <th>G_16</th>\n",
              "      <th>G_17</th>\n",
              "      <th>G_18</th>\n",
              "      <th>G_19</th>\n",
              "      <th>G_20</th>\n",
              "      <th>G_21</th>\n",
              "      <th>G_22</th>\n",
              "    </tr>\n",
              "  </thead>\n",
              "  <tbody>\n",
              "    <tr>\n",
              "      <th>0</th>\n",
              "      <td>146.0</td>\n",
              "      <td>121.0</td>\n",
              "      <td>113.0</td>\n",
              "      <td>128.0</td>\n",
              "      <td>117.0</td>\n",
              "      <td>95.0</td>\n",
              "      <td>65.0</td>\n",
              "      <td>97.0</td>\n",
              "      <td>108.0</td>\n",
              "      <td>75.0</td>\n",
              "      <td>...</td>\n",
              "      <td>88.0</td>\n",
              "      <td>69.0</td>\n",
              "      <td>148.0</td>\n",
              "      <td>114.0</td>\n",
              "      <td>116.0</td>\n",
              "      <td>83.0</td>\n",
              "      <td>140.0</td>\n",
              "      <td>131.0</td>\n",
              "      <td>135.0</td>\n",
              "      <td>115.0</td>\n",
              "    </tr>\n",
              "    <tr>\n",
              "      <th>1</th>\n",
              "      <td>146.0</td>\n",
              "      <td>121.0</td>\n",
              "      <td>113.0</td>\n",
              "      <td>128.0</td>\n",
              "      <td>117.0</td>\n",
              "      <td>95.0</td>\n",
              "      <td>65.0</td>\n",
              "      <td>97.0</td>\n",
              "      <td>108.0</td>\n",
              "      <td>75.0</td>\n",
              "      <td>...</td>\n",
              "      <td>88.0</td>\n",
              "      <td>69.0</td>\n",
              "      <td>148.0</td>\n",
              "      <td>114.0</td>\n",
              "      <td>116.0</td>\n",
              "      <td>83.0</td>\n",
              "      <td>140.0</td>\n",
              "      <td>131.0</td>\n",
              "      <td>135.0</td>\n",
              "      <td>115.0</td>\n",
              "    </tr>\n",
              "    <tr>\n",
              "      <th>2</th>\n",
              "      <td>146.0</td>\n",
              "      <td>121.0</td>\n",
              "      <td>113.0</td>\n",
              "      <td>128.0</td>\n",
              "      <td>117.0</td>\n",
              "      <td>95.0</td>\n",
              "      <td>65.0</td>\n",
              "      <td>97.0</td>\n",
              "      <td>108.0</td>\n",
              "      <td>75.0</td>\n",
              "      <td>...</td>\n",
              "      <td>88.0</td>\n",
              "      <td>69.0</td>\n",
              "      <td>148.0</td>\n",
              "      <td>114.0</td>\n",
              "      <td>116.0</td>\n",
              "      <td>83.0</td>\n",
              "      <td>140.0</td>\n",
              "      <td>131.0</td>\n",
              "      <td>135.0</td>\n",
              "      <td>115.0</td>\n",
              "    </tr>\n",
              "    <tr>\n",
              "      <th>3</th>\n",
              "      <td>146.0</td>\n",
              "      <td>121.0</td>\n",
              "      <td>113.0</td>\n",
              "      <td>128.0</td>\n",
              "      <td>117.0</td>\n",
              "      <td>95.0</td>\n",
              "      <td>65.0</td>\n",
              "      <td>97.0</td>\n",
              "      <td>108.0</td>\n",
              "      <td>75.0</td>\n",
              "      <td>...</td>\n",
              "      <td>88.0</td>\n",
              "      <td>69.0</td>\n",
              "      <td>148.0</td>\n",
              "      <td>114.0</td>\n",
              "      <td>116.0</td>\n",
              "      <td>83.0</td>\n",
              "      <td>140.0</td>\n",
              "      <td>131.0</td>\n",
              "      <td>135.0</td>\n",
              "      <td>115.0</td>\n",
              "    </tr>\n",
              "    <tr>\n",
              "      <th>4</th>\n",
              "      <td>146.0</td>\n",
              "      <td>121.0</td>\n",
              "      <td>113.0</td>\n",
              "      <td>128.0</td>\n",
              "      <td>117.0</td>\n",
              "      <td>95.0</td>\n",
              "      <td>65.0</td>\n",
              "      <td>97.0</td>\n",
              "      <td>108.0</td>\n",
              "      <td>75.0</td>\n",
              "      <td>...</td>\n",
              "      <td>88.0</td>\n",
              "      <td>69.0</td>\n",
              "      <td>148.0</td>\n",
              "      <td>114.0</td>\n",
              "      <td>116.0</td>\n",
              "      <td>83.0</td>\n",
              "      <td>140.0</td>\n",
              "      <td>131.0</td>\n",
              "      <td>135.0</td>\n",
              "      <td>115.0</td>\n",
              "    </tr>\n",
              "  </tbody>\n",
              "</table>\n",
              "<p>5 rows × 22 columns</p>\n",
              "</div>"
            ],
            "text/plain": [
              "     G_1    G_2    G_3    G_4    G_5   G_6   G_7   G_8    G_9  G_10  ...  \\\n",
              "0  146.0  121.0  113.0  128.0  117.0  95.0  65.0  97.0  108.0  75.0  ...   \n",
              "1  146.0  121.0  113.0  128.0  117.0  95.0  65.0  97.0  108.0  75.0  ...   \n",
              "2  146.0  121.0  113.0  128.0  117.0  95.0  65.0  97.0  108.0  75.0  ...   \n",
              "3  146.0  121.0  113.0  128.0  117.0  95.0  65.0  97.0  108.0  75.0  ...   \n",
              "4  146.0  121.0  113.0  128.0  117.0  95.0  65.0  97.0  108.0  75.0  ...   \n",
              "\n",
              "   G_13  G_14   G_15   G_16   G_17  G_18   G_19   G_20   G_21   G_22  \n",
              "0  88.0  69.0  148.0  114.0  116.0  83.0  140.0  131.0  135.0  115.0  \n",
              "1  88.0  69.0  148.0  114.0  116.0  83.0  140.0  131.0  135.0  115.0  \n",
              "2  88.0  69.0  148.0  114.0  116.0  83.0  140.0  131.0  135.0  115.0  \n",
              "3  88.0  69.0  148.0  114.0  116.0  83.0  140.0  131.0  135.0  115.0  \n",
              "4  88.0  69.0  148.0  114.0  116.0  83.0  140.0  131.0  135.0  115.0  \n",
              "\n",
              "[5 rows x 22 columns]"
            ]
          },
          "execution_count": 11,
          "metadata": {},
          "output_type": "execute_result"
        }
      ],
      "source": [
        "glove_data = pd.DataFrame(mat_data['glove'])\n",
        "new_column_names = ['G_' + str(i) for i in range(1, glove_data.shape[1] + 1)]\n",
        "glove_data.columns = new_column_names\n",
        "glove_data.head()"
      ]
    },
    {
      "cell_type": "markdown",
      "metadata": {
        "id": "UzEBg9NfIch7"
      },
      "source": [
        "### Dataframe preliminar\n",
        "\n",
        "A continuación se muestra el dataframe preliminar el cual concatena solamente:\n",
        "* La postura\n",
        "* Los datos de los electrodos.\n",
        "* Los datos del guante."
      ]
    },
    {
      "cell_type": "code",
      "execution_count": 12,
      "metadata": {
        "colab": {
          "base_uri": "https://localhost:8080/",
          "height": 255
        },
        "id": "COnB6JqII0Oo",
        "outputId": "7b12231b-607d-439c-e653-f34c08f3213e"
      },
      "outputs": [
        {
          "data": {
            "text/html": [
              "<div>\n",
              "<style scoped>\n",
              "    .dataframe tbody tr th:only-of-type {\n",
              "        vertical-align: middle;\n",
              "    }\n",
              "\n",
              "    .dataframe tbody tr th {\n",
              "        vertical-align: top;\n",
              "    }\n",
              "\n",
              "    .dataframe thead th {\n",
              "        text-align: right;\n",
              "    }\n",
              "</style>\n",
              "<table border=\"1\" class=\"dataframe\">\n",
              "  <thead>\n",
              "    <tr style=\"text-align: right;\">\n",
              "      <th></th>\n",
              "      <th>EMG_1</th>\n",
              "      <th>EMG_2</th>\n",
              "      <th>EMG_3</th>\n",
              "      <th>EMG_4</th>\n",
              "      <th>EMG_5</th>\n",
              "      <th>EMG_6</th>\n",
              "      <th>EMG_7</th>\n",
              "      <th>EMG_8</th>\n",
              "      <th>EMG_9</th>\n",
              "      <th>EMG_10</th>\n",
              "      <th>...</th>\n",
              "      <th>G_14</th>\n",
              "      <th>G_15</th>\n",
              "      <th>G_16</th>\n",
              "      <th>G_17</th>\n",
              "      <th>G_18</th>\n",
              "      <th>G_19</th>\n",
              "      <th>G_20</th>\n",
              "      <th>G_21</th>\n",
              "      <th>G_22</th>\n",
              "      <th>stimulus</th>\n",
              "    </tr>\n",
              "  </thead>\n",
              "  <tbody>\n",
              "    <tr>\n",
              "      <th>0</th>\n",
              "      <td>0.0684</td>\n",
              "      <td>0.0024</td>\n",
              "      <td>0.0024</td>\n",
              "      <td>0.0024</td>\n",
              "      <td>0.0024</td>\n",
              "      <td>0.0098</td>\n",
              "      <td>0.0024</td>\n",
              "      <td>0.0488</td>\n",
              "      <td>0.0024</td>\n",
              "      <td>0.0342</td>\n",
              "      <td>...</td>\n",
              "      <td>69.0</td>\n",
              "      <td>148.0</td>\n",
              "      <td>114.0</td>\n",
              "      <td>116.0</td>\n",
              "      <td>83.0</td>\n",
              "      <td>140.0</td>\n",
              "      <td>131.0</td>\n",
              "      <td>135.0</td>\n",
              "      <td>115.0</td>\n",
              "      <td>0</td>\n",
              "    </tr>\n",
              "    <tr>\n",
              "      <th>1</th>\n",
              "      <td>0.0586</td>\n",
              "      <td>0.0024</td>\n",
              "      <td>0.0024</td>\n",
              "      <td>0.0024</td>\n",
              "      <td>0.0024</td>\n",
              "      <td>0.0049</td>\n",
              "      <td>0.0024</td>\n",
              "      <td>0.0415</td>\n",
              "      <td>0.0024</td>\n",
              "      <td>0.0293</td>\n",
              "      <td>...</td>\n",
              "      <td>69.0</td>\n",
              "      <td>148.0</td>\n",
              "      <td>114.0</td>\n",
              "      <td>116.0</td>\n",
              "      <td>83.0</td>\n",
              "      <td>140.0</td>\n",
              "      <td>131.0</td>\n",
              "      <td>135.0</td>\n",
              "      <td>115.0</td>\n",
              "      <td>0</td>\n",
              "    </tr>\n",
              "    <tr>\n",
              "      <th>2</th>\n",
              "      <td>0.0562</td>\n",
              "      <td>0.0024</td>\n",
              "      <td>0.0024</td>\n",
              "      <td>0.0024</td>\n",
              "      <td>0.0024</td>\n",
              "      <td>0.0049</td>\n",
              "      <td>0.0024</td>\n",
              "      <td>0.0391</td>\n",
              "      <td>0.0024</td>\n",
              "      <td>0.0244</td>\n",
              "      <td>...</td>\n",
              "      <td>69.0</td>\n",
              "      <td>148.0</td>\n",
              "      <td>114.0</td>\n",
              "      <td>116.0</td>\n",
              "      <td>83.0</td>\n",
              "      <td>140.0</td>\n",
              "      <td>131.0</td>\n",
              "      <td>135.0</td>\n",
              "      <td>115.0</td>\n",
              "      <td>0</td>\n",
              "    </tr>\n",
              "    <tr>\n",
              "      <th>3</th>\n",
              "      <td>0.0562</td>\n",
              "      <td>0.0024</td>\n",
              "      <td>0.0024</td>\n",
              "      <td>0.0024</td>\n",
              "      <td>0.0024</td>\n",
              "      <td>0.0049</td>\n",
              "      <td>0.0024</td>\n",
              "      <td>0.0342</td>\n",
              "      <td>0.0024</td>\n",
              "      <td>0.0171</td>\n",
              "      <td>...</td>\n",
              "      <td>69.0</td>\n",
              "      <td>148.0</td>\n",
              "      <td>114.0</td>\n",
              "      <td>116.0</td>\n",
              "      <td>83.0</td>\n",
              "      <td>140.0</td>\n",
              "      <td>131.0</td>\n",
              "      <td>135.0</td>\n",
              "      <td>115.0</td>\n",
              "      <td>0</td>\n",
              "    </tr>\n",
              "    <tr>\n",
              "      <th>4</th>\n",
              "      <td>0.0488</td>\n",
              "      <td>0.0024</td>\n",
              "      <td>0.0024</td>\n",
              "      <td>0.0024</td>\n",
              "      <td>0.0024</td>\n",
              "      <td>0.0024</td>\n",
              "      <td>0.0024</td>\n",
              "      <td>0.0366</td>\n",
              "      <td>0.0024</td>\n",
              "      <td>0.0146</td>\n",
              "      <td>...</td>\n",
              "      <td>69.0</td>\n",
              "      <td>148.0</td>\n",
              "      <td>114.0</td>\n",
              "      <td>116.0</td>\n",
              "      <td>83.0</td>\n",
              "      <td>140.0</td>\n",
              "      <td>131.0</td>\n",
              "      <td>135.0</td>\n",
              "      <td>115.0</td>\n",
              "      <td>0</td>\n",
              "    </tr>\n",
              "  </tbody>\n",
              "</table>\n",
              "<p>5 rows × 33 columns</p>\n",
              "</div>"
            ],
            "text/plain": [
              "    EMG_1   EMG_2   EMG_3   EMG_4   EMG_5   EMG_6   EMG_7   EMG_8   EMG_9  \\\n",
              "0  0.0684  0.0024  0.0024  0.0024  0.0024  0.0098  0.0024  0.0488  0.0024   \n",
              "1  0.0586  0.0024  0.0024  0.0024  0.0024  0.0049  0.0024  0.0415  0.0024   \n",
              "2  0.0562  0.0024  0.0024  0.0024  0.0024  0.0049  0.0024  0.0391  0.0024   \n",
              "3  0.0562  0.0024  0.0024  0.0024  0.0024  0.0049  0.0024  0.0342  0.0024   \n",
              "4  0.0488  0.0024  0.0024  0.0024  0.0024  0.0024  0.0024  0.0366  0.0024   \n",
              "\n",
              "   EMG_10  ...  G_14   G_15   G_16   G_17  G_18   G_19   G_20   G_21   G_22  \\\n",
              "0  0.0342  ...  69.0  148.0  114.0  116.0  83.0  140.0  131.0  135.0  115.0   \n",
              "1  0.0293  ...  69.0  148.0  114.0  116.0  83.0  140.0  131.0  135.0  115.0   \n",
              "2  0.0244  ...  69.0  148.0  114.0  116.0  83.0  140.0  131.0  135.0  115.0   \n",
              "3  0.0171  ...  69.0  148.0  114.0  116.0  83.0  140.0  131.0  135.0  115.0   \n",
              "4  0.0146  ...  69.0  148.0  114.0  116.0  83.0  140.0  131.0  135.0  115.0   \n",
              "\n",
              "   stimulus  \n",
              "0         0  \n",
              "1         0  \n",
              "2         0  \n",
              "3         0  \n",
              "4         0  \n",
              "\n",
              "[5 rows x 33 columns]"
            ]
          },
          "execution_count": 12,
          "metadata": {},
          "output_type": "execute_result"
        }
      ],
      "source": [
        "data_preliminar = pd.concat([emg_data, glove_data, stimulus_data], axis=1)\n",
        "data_preliminar.head()"
      ]
    },
    {
      "cell_type": "markdown",
      "metadata": {
        "id": "DzWFnjdFD5Tz"
      },
      "source": [
        "### Medicion del aceletrometro\n",
        "\n",
        "Por lo menos en este caso no se encontro (o por lo menos no se entendio como obtenerla)."
      ]
    },
    {
      "cell_type": "markdown",
      "metadata": {
        "id": "N1QTMAxWANhW"
      },
      "source": [
        "### Preguntas\n",
        "\n",
        "1. ¿Cual columna deberia ser el label?\n",
        "2. ¿Es necesario tener ademas de las columnas de los sensores las otras (tal vez por correlacion por ejemplo)?\n",
        "3. ¿Como se deberia construir el vector de entradas y el de labels?, ¿de toda la información como seria el caso?\n"
      ]
    }
  ],
  "metadata": {
    "colab": {
      "provenance": []
    },
    "kernelspec": {
      "display_name": "Python 3",
      "name": "python3"
    },
    "language_info": {
      "codemirror_mode": {
        "name": "ipython",
        "version": 3
      },
      "file_extension": ".py",
      "mimetype": "text/x-python",
      "name": "python",
      "nbconvert_exporter": "python",
      "pygments_lexer": "ipython3",
      "version": "3.9.13"
    }
  },
  "nbformat": 4,
  "nbformat_minor": 0
}
